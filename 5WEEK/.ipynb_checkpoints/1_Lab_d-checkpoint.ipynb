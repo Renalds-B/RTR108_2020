{
 "cells": [
  {
   "cell_type": "markdown",
   "metadata": {},
   "source": [
    "#  1. laboratorijas darbs - Teilora rindas (Laboratory work Nr.1 - Taylor series)"
   ]
  },
  {
   "cell_type": "markdown",
   "metadata": {},
   "source": [
    "## 1. -  3. koda versijas\n",
    "\n",
    "_1. un 2. koda daļas ir pārveidotas par komentāriem_"
   ]
  },
  {
   "cell_type": "code",
   "execution_count": 1,
   "metadata": {},
   "outputs": [
    {
     "name": "stdout",
     "output_type": "stream",
     "text": [
      "Importējam bibiliotēkas!\n"
     ]
    }
   ],
   "source": [
    "print(\"Importējam bibiliotēkas!\")\n",
    "# from math import sin\n",
    "from math import sin as standarta_sinuss"
   ]
  },
  {
   "cell_type": "code",
   "execution_count": 2,
   "metadata": {},
   "outputs": [
    {
     "name": "stdout",
     "output_type": "stream",
     "text": [
      "Lietotāj, lūdzu, ievadi argumentu (x): 0.45\n"
     ]
    }
   ],
   "source": [
    "x = float(input(\"Lietotāj, lūdzu, ievadi argumentu (x): \"))"
   ]
  },
  {
   "cell_type": "code",
   "execution_count": 3,
   "metadata": {},
   "outputs": [],
   "source": [
    "#y = sin(x)\n",
    "y = standarta_sinuss(x)"
   ]
  },
  {
   "cell_type": "code",
   "execution_count": 4,
   "metadata": {},
   "outputs": [
    {
     "name": "stdout",
     "output_type": "stream",
     "text": [
      "sin(0.45) =   0.43\n"
     ]
    }
   ],
   "source": [
    "print(\"sin(%.2f) = %6.2f\" %(x,y))"
   ]
  },
  {
   "cell_type": "markdown",
   "metadata": {},
   "source": [
    "$$\\uparrow \\sin{x} \\text{ rezultāts ar iebūvēto} \\textit{ math} \\text{ bibliotēkas funkciju} \\textit{ sin}$$"
   ]
  },
  {
   "cell_type": "markdown",
   "metadata": {},
   "source": [
    "$$\\rule{10cm}{0.4pt}\\\\ \\textbf{Sekojoši izmēģināsim Teilora rindas teoriju:} \\\\ \\sin{x}=\\sum_{k=0}^{\\infty} \\frac{(-1)^k*x^{2*k+1}}{(2*k+1)!}$$"
   ]
  },
  {
   "cell_type": "code",
   "execution_count": 5,
   "metadata": {
    "scrolled": true
   },
   "outputs": [
    {
     "name": "stdout",
     "output_type": "stream",
     "text": [
      "a0 = 0.45 S0 = 0.45\n"
     ]
    }
   ],
   "source": [
    "#a0 = (-1)**0*x**1/(1) # ** - Python funkcija (kāpināšana)\n",
    "a = (-1)**0*x**1/(1)\n",
    "#S0 = a0\n",
    "#S = a0\n",
    "S = a\n",
    "print(\"a0 = %.2f S0 = %.2f\"%(a,S)) #Iepriekš bija a0 un S0"
   ]
  },
  {
   "cell_type": "code",
   "execution_count": 6,
   "metadata": {},
   "outputs": [
    {
     "name": "stdout",
     "output_type": "stream",
     "text": [
      "a1 = -0.02 S1 = 0.43\n"
     ]
    }
   ],
   "source": [
    "#a1 = (-1)**1*x**3/(1*2*3)\n",
    "#a1 = a0 * (-1)*x*x/(2*3) - vēl viens piemērs, kā varēja aprēķināt\n",
    "a = a * (-1)*x*x/(2*3)\n",
    "#S1 = a0 + a1\n",
    "#S = S + a1\n",
    "S = S + a\n",
    "print(\"a1 = %.2f S1 = %.2f\" %(a,S)) #Iepriekš bija a1 un S1"
   ]
  },
  {
   "cell_type": "code",
   "execution_count": 7,
   "metadata": {},
   "outputs": [
    {
     "name": "stdout",
     "output_type": "stream",
     "text": [
      "a2 = 0.00 S2 = 0.43\n"
     ]
    }
   ],
   "source": [
    "#a2 = (-1)**2*x**5/(1*2*3*4*5)\n",
    "a = a * (-1)*x*x/(4*5)\n",
    "#S2 = a0 + a1 + a2\n",
    "#S = S + a2\n",
    "S = S + a\n",
    "print(\"a2 = %.2f S2 = %.2f\" %(a,S)) #Iepriekš bija a2 un S2"
   ]
  },
  {
   "cell_type": "code",
   "execution_count": 8,
   "metadata": {},
   "outputs": [
    {
     "name": "stdout",
     "output_type": "stream",
     "text": [
      "a3 = -0.00 S3 = 0.43\n"
     ]
    }
   ],
   "source": [
    "#a3 = (-1)**3*x**7/(1*2*3*4*5*6*7)\n",
    "a = a* (-1)*x*x/(6*7)\n",
    "#S3 = a0 + a1 + a2 + a3\n",
    "#S = S + a3\n",
    "S = S + a\n",
    "print(\"a3 = %.2f S3 = %.2f\" %(a,S)) #Iepriekš bija a3 un S3"
   ]
  },
  {
   "cell_type": "markdown",
   "metadata": {},
   "source": [
    "$$\\rule{12cm}{0.4pt}$$\n",
    "## <center>4. - 5. koda versijas</center>\n",
    "\n",
    "_<center>Programmas pakāpeniska automatizēšana</center>_"
   ]
  },
  {
   "cell_type": "code",
   "execution_count": 9,
   "metadata": {},
   "outputs": [],
   "source": [
    "import math"
   ]
  },
  {
   "cell_type": "code",
   "execution_count": 10,
   "metadata": {},
   "outputs": [
    {
     "name": "stdout",
     "output_type": "stream",
     "text": [
      "Lietotāj, lūdzu, ievadi argumentu (x): 0.90\n"
     ]
    }
   ],
   "source": [
    "x = float(input(\"Lietotāj, lūdzu, ievadi argumentu (x): \"))"
   ]
  },
  {
   "cell_type": "code",
   "execution_count": 11,
   "metadata": {},
   "outputs": [
    {
     "name": "stdout",
     "output_type": "stream",
     "text": [
      "sin(0.90) =   0.78\n"
     ]
    }
   ],
   "source": [
    "y = math.sin(x)\n",
    "print(\"sin(%.2f) = %6.2f\" %(x,y))"
   ]
  },
  {
   "cell_type": "code",
   "execution_count": 12,
   "metadata": {},
   "outputs": [
    {
     "name": "stdout",
     "output_type": "stream",
     "text": [
      "a0 =   0.90; S0 =   0.90\n"
     ]
    }
   ],
   "source": [
    "k = 0\n",
    "a = (-1)**0*x**1/(1)\n",
    "S = a\n",
    "print(\"a0 = %6.2f; S0 = %6.2f\" %(a,S))"
   ]
  },
  {
   "cell_type": "code",
   "execution_count": 13,
   "metadata": {},
   "outputs": [
    {
     "name": "stdout",
     "output_type": "stream",
     "text": [
      "a1 =  -0.12; S1 =   0.78\n"
     ]
    }
   ],
   "source": [
    "#k = 1\n",
    "k = k+1\n",
    "#a = a * (-1)*x*x/(2*3)\n",
    "a = a * (-1)*x*x/((2*k)*(2*k+1))\n",
    "S = S + a\n",
    "print(\"a%d = %6.2f; S%d = %6.2f\" %(k,a,k,S))"
   ]
  },
  {
   "cell_type": "code",
   "execution_count": 14,
   "metadata": {},
   "outputs": [
    {
     "name": "stdout",
     "output_type": "stream",
     "text": [
      "a2 =   0.00; S2 =   0.78\n"
     ]
    }
   ],
   "source": [
    "#k = 2\n",
    "k = k+1\n",
    "a = a * (-1)*x*x/((2*k)*(2*k+1))\n",
    "S = S + a\n",
    "print(\"a%d = %6.2f; S%d = %6.2f\" %(k,a,k,S))"
   ]
  },
  {
   "cell_type": "code",
   "execution_count": 15,
   "metadata": {},
   "outputs": [
    {
     "name": "stdout",
     "output_type": "stream",
     "text": [
      "a3 =  -0.00 S3 =   0.78\n"
     ]
    }
   ],
   "source": [
    "#k = 3\n",
    "k = k+1\n",
    "a = a * (-1)*x*x/((2*k)*(2*k+1))\n",
    "S = S + a\n",
    "print(\"a%d = %6.2f S%d = %6.2f\" %(k,a,k,S))"
   ]
  },
  {
   "cell_type": "markdown",
   "metadata": {},
   "source": [
    "$$\\rule{12cm}{0.4pt}$$\n",
    "\n",
    "<div style=\"float: right;\">\n",
    "    <h1>Automatizēts kods ~</h1>\n",
    "    <h2> ~ Gala versija</h2>\n",
    "    <i> Un nedaudz HTML Markdown funkcionālā</i>\n",
    "</div>\n"
   ]
  },
  {
   "cell_type": "code",
   "execution_count": 16,
   "metadata": {},
   "outputs": [],
   "source": [
    "from math import sin"
   ]
  },
  {
   "cell_type": "markdown",
   "metadata": {},
   "source": [
    "_Protams importējam **math** bibliotēku. Varam ķerties klāt **jaunas funkcijas definēšanai!**_"
   ]
  },
  {
   "cell_type": "code",
   "execution_count": 17,
   "metadata": {},
   "outputs": [],
   "source": [
    "def mans_sinuss(x):\n",
    "    k = 0\n",
    "    a = (-1)**0*x**1/(1)\n",
    "    S = a\n",
    "    print(\"Izdruka no liet.f. a0 = %6.2f; S0 = %6.2f\" %(a,S))\n",
    "    \n",
    "    # Ar pamanītajām likumsakarībām iepriekšējos piemēros, veidojam ciklu\n",
    "    while k<3:\n",
    "        k = k+1\n",
    "        R = (-1)*x*x/((2*k)*(2*k+1))\n",
    "        a = a*R\n",
    "        S = S+a\n",
    "        print(\"Izdruka no liet.f. a%d = %6.2f; S%d = %6.2f\" %(k,a,k,S))\n",
    "    print(\"Izdruka no liet.f. Beigas!\")\n",
    "    return S"
   ]
  },
  {
   "cell_type": "code",
   "execution_count": 18,
   "metadata": {},
   "outputs": [
    {
     "name": "stdout",
     "output_type": "stream",
     "text": [
      "Lietotāj, lūdzu, ievadi argumentu(x): 1\n",
      "Standarta sin(1.00) =   0.84\n"
     ]
    }
   ],
   "source": [
    "x = float(input(\"Lietotāj, lūdzu, ievadi argumentu(x): \"))\n",
    "y = sin(x)\n",
    "print(\"Standarta sin(%.2f) = %6.2f\" %(x,y))"
   ]
  },
  {
   "cell_type": "code",
   "execution_count": 19,
   "metadata": {},
   "outputs": [
    {
     "name": "stdout",
     "output_type": "stream",
     "text": [
      "Izdruka no liet.f. a0 =   1.00; S0 =   1.00\n",
      "Izdruka no liet.f. a1 =  -0.17; S1 =   0.83\n",
      "Izdruka no liet.f. a2 =   0.01; S2 =   0.84\n",
      "Izdruka no liet.f. a3 =  -0.00; S3 =   0.84\n",
      "Izdruka no liet.f. Beigas!\n",
      "Mans sin(1.00) =   0.84\n"
     ]
    }
   ],
   "source": [
    "yy = mans_sinuss(x)\n",
    "print(\"Mans sin(%.2f) = %6.2f\" %(x,yy))"
   ]
  },
  {
   "cell_type": "code",
   "execution_count": 20,
   "metadata": {},
   "outputs": [
    {
     "name": "stdout",
     "output_type": "stream",
     "text": [
      "Izdruka no liet.f. a0 =   1.00; S0 =   1.00\n",
      "Izdruka no liet.f. a1 =  -0.17; S1 =   0.83\n",
      "Izdruka no liet.f. a2 =   0.01; S2 =   0.84\n",
      "Izdruka no liet.f. a3 =  -0.00; S3 =   0.84\n",
      "Izdruka no liet.f. Beigas!\n"
     ]
    },
    {
     "data": {
      "text/plain": [
       "0.841468253968254"
      ]
     },
     "execution_count": 20,
     "metadata": {},
     "output_type": "execute_result"
    }
   ],
   "source": [
    "mans_sinuss(1)"
   ]
  },
  {
   "cell_type": "code",
   "execution_count": null,
   "metadata": {},
   "outputs": [],
   "source": []
  }
 ],
 "metadata": {
  "kernelspec": {
   "display_name": "Python 3",
   "language": "python",
   "name": "python3"
  },
  "language_info": {
   "codemirror_mode": {
    "name": "ipython",
    "version": 3
   },
   "file_extension": ".py",
   "mimetype": "text/x-python",
   "name": "python",
   "nbconvert_exporter": "python",
   "pygments_lexer": "ipython3",
   "version": "3.6.9"
  }
 },
 "nbformat": 4,
 "nbformat_minor": 4
}
